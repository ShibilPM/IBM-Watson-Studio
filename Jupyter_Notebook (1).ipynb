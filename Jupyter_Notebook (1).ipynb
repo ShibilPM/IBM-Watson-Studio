{
 "cells": [
  {
   "cell_type": "markdown",
   "metadata": {},
   "source": [
    "<center>\n",
    "    <img src=\"https://cf-courses-data.s3.us.cloud-object-storage.appdomain.cloud/IBMDeveloperSkillsNetwork-DS0105EN-SkillsNetwork/labs/Module2/images/SN_web_lightmode.png\" width=\"300\" alt=\"cognitiveclass.ai logo\">\n",
    "</center>\n"
   ]
  },
  {
   "cell_type": "markdown",
   "metadata": {},
   "source": [
    "#### Add your code below following the instructions given in the course\n"
   ]
  },
  {
   "cell_type": "markdown",
   "metadata": {},
   "source": [
    "<h1>My Jupyter Notebook on IBM Watson Studio</h1>"
   ]
  },
  {
   "cell_type": "markdown",
   "metadata": {},
   "source": [
    "__Shibil PM__<br>\n",
    "Data Analyst"
   ]
  },
  {
   "cell_type": "markdown",
   "metadata": {},
   "source": [
    "_I am interested in data science because I am curious what is actualy data science and what I can do with data science_"
   ]
  },
  {
   "cell_type": "markdown",
   "metadata": {},
   "source": [
    "<h3>Multiplying two integer number.</h3>"
   ]
  },
  {
   "cell_type": "code",
   "execution_count": 3,
   "metadata": {},
   "outputs": [
    {
     "data": {
      "text/plain": [
       "45"
      ]
     },
     "execution_count": 3,
     "metadata": {},
     "output_type": "execute_result"
    }
   ],
   "source": [
    "5*9"
   ]
  },
  {
   "cell_type": "markdown",
   "metadata": {},
   "source": [
    "<h4><u>Horizontal rule</u></h4>\n",
    "<ul>\n",
    "  <li>poin1 1</li>\n",
    "  <li>point 2</li>\n",
    "  <li>point 3</li>\n",
    "</ul>\n",
    "<ol>\n",
    "  <li>poin1 1</li>\n",
    "  <li>point 2</li>\n",
    "  <li>point 3</li>\n",
    "</ol>\n",
    "<table>\n",
    "  <tr>\n",
    "    <th>Header 1</th>\n",
    "    <th>Header 2</th>\n",
    "    <th>Header 3</th>\n",
    "  </tr>\n",
    "  <tr>\n",
    "    <td>content</td>\n",
    "    <td>content</td>\n",
    "    <td>content</td>\n",
    "  </tr>\n",
    "  <tr>\n",
    "    <td>content</td>\n",
    "    <td>content</td>\n",
    "    <td>content</td>\n",
    "  </tr>\n",
    "</table>\n",
    "<a href=\"\">Hyperlink</a><br>\n",
    "<s>Strike through</s>\n",
    "<img src=\"https://images.pexels.com/photos/796602/pexels-photo-796602.jpeg?auto=compress&cs=tinysrgb&w=1260&h=750&dpr=2\" />"
   ]
  },
  {
   "cell_type": "code",
   "execution_count": null,
   "metadata": {},
   "outputs": [],
   "source": []
  }
 ],
 "metadata": {
  "kernelspec": {
   "display_name": "Python",
   "language": "python",
   "name": "conda-env-python-py"
  },
  "language_info": {
   "codemirror_mode": {
    "name": "ipython",
    "version": 3
   },
   "file_extension": ".py",
   "mimetype": "text/x-python",
   "name": "python",
   "nbconvert_exporter": "python",
   "pygments_lexer": "ipython3",
   "version": "3.7.12"
  }
 },
 "nbformat": 4,
 "nbformat_minor": 4
}
