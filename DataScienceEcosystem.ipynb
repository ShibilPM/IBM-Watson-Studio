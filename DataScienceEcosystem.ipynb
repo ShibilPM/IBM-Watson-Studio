{
 "cells": [
  {
   "cell_type": "markdown",
   "id": "6e8e1f9e-49b2-4ac9-ae1b-70b77abebc4c",
   "metadata": {},
   "source": [
    "<h1><center> Data Science</center></h1>"
   ]
  },
  {
   "cell_type": "markdown",
   "id": "661a0df2-9908-44ae-a46b-b83f29d1b95f",
   "metadata": {},
   "source": [
    "In this notebook, Data Science Tools and Ecosystem are summarized."
   ]
  },
  {
   "cell_type": "markdown",
   "id": "a10cc096-ab33-43e4-904e-03cdbe86f50a",
   "metadata": {},
   "source": [
    "Some of the popular languages that Data Scientists use are:\n",
    "1. Python\n",
    "2. R\n",
    "3. SQL (Structured Query Language)"
   ]
  },
  {
   "cell_type": "markdown",
   "id": "b8ea0447-b612-4b35-8ebc-bd2c31167d4b",
   "metadata": {},
   "source": [
    "Some of the commonly used libraries used by Data Scientists include:\n",
    "1. TensorFlow\n",
    "2. NumPy\n",
    "4. Pandas"
   ]
  },
  {
   "cell_type": "markdown",
   "id": "2f8d0a3b-8945-45ad-9777-3c47f26e1694",
   "metadata": {},
   "source": [
    "\n",
    "| Data Science Tools |\n",
    "|-------|\n",
    "| Jupyter |\n",
    "| RStudio |\n",
    "| Apache Flink |\n"
   ]
  },
  {
   "cell_type": "markdown",
   "id": "4975f65a-8ec4-43b9-8348-19654e5b8144",
   "metadata": {},
   "source": [
    "<h3>Below are a few examples of evaluating arithmetic expressions in Python</h3>"
   ]
  },
  {
   "cell_type": "markdown",
   "id": "bcec8006-3c6f-4547-a34a-3faacc042ada",
   "metadata": {},
   "source": [
    "This a simple arithmetic expression to mutiply then add integers"
   ]
  },
  {
   "cell_type": "code",
   "execution_count": 11,
   "id": "94a4a3c4-2490-47fd-9762-b6a7a0d10b46",
   "metadata": {},
   "outputs": [
    {
     "data": {
      "text/plain": [
       "17"
      ]
     },
     "execution_count": 11,
     "metadata": {},
     "output_type": "execute_result"
    }
   ],
   "source": [
    "(3*4)+5"
   ]
  },
  {
   "cell_type": "code",
   "execution_count": 5,
   "id": "29d3cf36-8f29-47b6-a9a7-628ebcbbae2d",
   "metadata": {},
   "outputs": [
    {
     "data": {
      "text/plain": [
       "35"
      ]
     },
     "execution_count": 5,
     "metadata": {},
     "output_type": "execute_result"
    }
   ],
   "source": [
    "#Multiplication and Addition\n",
    "(5*6)+5"
   ]
  },
  {
   "cell_type": "markdown",
   "id": "a685a5a0-04cb-4394-9419-2c87afa0051b",
   "metadata": {},
   "source": [
    "This will convert 200 minutes to hours by diving by 60"
   ]
  },
  {
   "cell_type": "code",
   "execution_count": 12,
   "id": "fc3ff575-1f8e-4f3a-983c-7072afd0bf46",
   "metadata": {},
   "outputs": [
    {
     "data": {
      "text/plain": [
       "3.3333333333333335"
      ]
     },
     "execution_count": 12,
     "metadata": {},
     "output_type": "execute_result"
    }
   ],
   "source": [
    "\n",
    "200/60"
   ]
  },
  {
   "cell_type": "markdown",
   "id": "2243e30f-6dd7-470f-98bc-855af8e04544",
   "metadata": {},
   "source": [
    "__Objectives__\n",
    "- Python\n",
    "- R\n",
    "- SQL (Structured Query Language)"
   ]
  },
  {
   "cell_type": "markdown",
   "id": "0a8a55be-58fa-4d6f-920d-6bf51a69b56d",
   "metadata": {},
   "source": [
    "<h2> Aouther </h2><br>\n",
    "Shibil"
   ]
  },
  {
   "cell_type": "code",
   "execution_count": null,
   "id": "ea151860-7809-4421-ac5e-253c874df6a0",
   "metadata": {},
   "outputs": [],
   "source": []
  }
 ],
 "metadata": {
  "kernelspec": {
   "display_name": "Python",
   "language": "python",
   "name": "conda-env-python-py"
  },
  "language_info": {
   "codemirror_mode": {
    "name": "ipython",
    "version": 3
   },
   "file_extension": ".py",
   "mimetype": "text/x-python",
   "name": "python",
   "nbconvert_exporter": "python",
   "pygments_lexer": "ipython3",
   "version": "3.7.12"
  }
 },
 "nbformat": 4,
 "nbformat_minor": 5
}
