{
 "cells": [
  {
   "cell_type": "markdown",
   "id": "6e8e1f9e-49b2-4ac9-ae1b-70b77abebc4c",
   "metadata": {},
   "source": [
    "<h1><center> Data Science</center></h1>"
   ]
  },
  {
   "cell_type": "markdown",
   "id": "661a0df2-9908-44ae-a46b-b83f29d1b95f",
   "metadata": {},
   "source": [
    "Data science is the study of data to extract meaningful insights for business. It is a multidisciplinary approach that combines principles and practices from the fields of mathematics, statistics, artificial intelligence, and computer engineering to analyze large amounts of data."
   ]
  },
  {
   "cell_type": "markdown",
   "id": "a10cc096-ab33-43e4-904e-03cdbe86f50a",
   "metadata": {},
   "source": [
    "Data science languages\n",
    "- Python\n",
    "- SQL (Structured Query Language)\n",
    "- R\n",
    "- Julia\n",
    "- JavaScript\n",
    "- Scala\n",
    "- Java \n",
    "- Go\n",
    "- MATLAB\n",
    "- C/C++\n",
    "- SAS"
   ]
  },
  {
   "cell_type": "markdown",
   "id": "b8ea0447-b612-4b35-8ebc-bd2c31167d4b",
   "metadata": {},
   "source": [
    "Data science libraries\n",
    "1. TensorFlow\n",
    "2. NumPy\n",
    "3. SciPy \n",
    "4. Pandas\n",
    "5. Matplotlib \n",
    "6. Keras\n",
    "7. SciKit-Learn\n",
    "8. PyTorch\n",
    "9. Scrapy\n",
    "10. BeautifulSoup\n",
    "11. LightGBM\n",
    "12. ELI5\n",
    "13. Theano\n",
    "14. NuPIC\n",
    "15. Ramp\n",
    "16. Pipenv\n",
    "17. Bob\n",
    "18. PyBrain\n",
    "19. Caffe2\n",
    "20. Chainer"
   ]
  },
  {
   "cell_type": "markdown",
   "id": "2f8d0a3b-8945-45ad-9777-3c47f26e1694",
   "metadata": {},
   "source": [
    "Data science tools\n",
    "| Row 1 | Row 2 | Row 3 |\n",
    "|-------| ------- | ------- |\n",
    "| Statistical Analysis System (SAS) | Apache Hadoop | Tableau |\n",
    "| TensorFlow | BigML | Knime |\n",
    "| Excel | Apache Flink | PowerBI |\n",
    "| RStudio | Jupyter | Matplotlib |\n"
   ]
  },
  {
   "cell_type": "markdown",
   "id": "4975f65a-8ec4-43b9-8348-19654e5b8144",
   "metadata": {},
   "source": [
    "Arith matic expression"
   ]
  },
  {
   "cell_type": "code",
   "execution_count": 2,
   "id": "94a4a3c4-2490-47fd-9762-b6a7a0d10b46",
   "metadata": {},
   "outputs": [
    {
     "data": {
      "text/plain": [
       "45.8"
      ]
     },
     "execution_count": 2,
     "metadata": {},
     "output_type": "execute_result"
    }
   ],
   "source": [
    "5+6*7-6/5"
   ]
  },
  {
   "cell_type": "code",
   "execution_count": 5,
   "id": "29d3cf36-8f29-47b6-a9a7-628ebcbbae2d",
   "metadata": {},
   "outputs": [
    {
     "data": {
      "text/plain": [
       "35"
      ]
     },
     "execution_count": 5,
     "metadata": {},
     "output_type": "execute_result"
    }
   ],
   "source": [
    "#Multiplication and Addition\n",
    "(5*6)+5"
   ]
  },
  {
   "cell_type": "code",
   "execution_count": 9,
   "id": "fc3ff575-1f8e-4f3a-983c-7072afd0bf46",
   "metadata": {},
   "outputs": [
    {
     "data": {
      "text/plain": [
       "4.0"
      ]
     },
     "execution_count": 9,
     "metadata": {},
     "output_type": "execute_result"
    }
   ],
   "source": [
    "#Converting minute to hour\n",
    "time_in_minute = 240\n",
    "time_in_minute/60"
   ]
  },
  {
   "cell_type": "markdown",
   "id": "2243e30f-6dd7-470f-98bc-855af8e04544",
   "metadata": {},
   "source": [
    "Objectives\n",
    "- Learn basics\n",
    "- Learn pyhton\n",
    "- Improve knowledge"
   ]
  },
  {
   "cell_type": "markdown",
   "id": "0a8a55be-58fa-4d6f-920d-6bf51a69b56d",
   "metadata": {},
   "source": [
    "## Aouther(s)\n",
    "### Shibil"
   ]
  },
  {
   "cell_type": "code",
   "execution_count": null,
   "id": "ea151860-7809-4421-ac5e-253c874df6a0",
   "metadata": {},
   "outputs": [],
   "source": []
  }
 ],
 "metadata": {
  "kernelspec": {
   "display_name": "Python",
   "language": "python",
   "name": "conda-env-python-py"
  },
  "language_info": {
   "codemirror_mode": {
    "name": "ipython",
    "version": 3
   },
   "file_extension": ".py",
   "mimetype": "text/x-python",
   "name": "python",
   "nbconvert_exporter": "python",
   "pygments_lexer": "ipython3",
   "version": "3.7.12"
  }
 },
 "nbformat": 4,
 "nbformat_minor": 5
}
